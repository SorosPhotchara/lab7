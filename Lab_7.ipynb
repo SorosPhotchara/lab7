{
  "nbformat": 4,
  "nbformat_minor": 0,
  "metadata": {
    "colab": {
      "provenance": [],
      "include_colab_link": true
    },
    "kernelspec": {
      "name": "python3",
      "display_name": "Python 3"
    },
    "language_info": {
      "name": "python"
    }
  },
  "cells": [
    {
      "cell_type": "markdown",
      "metadata": {
        "id": "view-in-github",
        "colab_type": "text"
      },
      "source": [
        "<a href=\"https://colab.research.google.com/github/SorosPhotchara/lab7/blob/main/Lab_7.ipynb\" target=\"_parent\"><img src=\"https://colab.research.google.com/assets/colab-badge.svg\" alt=\"Open In Colab\"/></a>"
      ]
    },
    {
      "cell_type": "markdown",
      "source": [
        "รหัสนักศึกษา : 67015091    ชื่อ : พชร โสรส"
      ],
      "metadata": {
        "id": "UXzLtjMa17TG"
      }
    },
    {
      "cell_type": "markdown",
      "source": [
        "1.\tเขียนฟังก์ชัน add_score(subject_score, subject, score) โดยมีพารามิเตอร์ 3 ตัว ได้แก่ subject_score เป็น dictionary ที่มีคู่ key : value เป็น subject : score พารามิเตอร์ตัวที่ 2 และ 3 เป็น subject และ score โดย subject เป็น string และ score เป็น integer โดยให้นำ subject และ score ไปเพิ่มใน dictionary เช่น\n",
        "\n",
        "-Input : subject_score = { }, subject = ‘python’, score = 50\n",
        "-return : { ‘python’ : 50 }\n",
        "-input : subject_score = { ‘python’ : 50 }, subject = ‘calculus’, score = 60\n",
        "-return : { ‘python’ : 50, ‘calculus : 60 }\n",
        "\n",
        "\n",
        "จากนั้นให้เขียนฟังก์ชัน calc_average_score หาค่าเฉลี่ยของคะแนนในทุกรายวิชาใน dictionary ที่ได้จากฟังก์ชัน add_score โดยให้ส่งค่าคืนมาเป็น string ที่มีทศนิยม 2 ตำแหน่ง\n"
      ],
      "metadata": {
        "id": "os9RES5T2DNP"
      }
    },
    {
      "cell_type": "code",
      "source": [
        "def add_score(subject_score, subject, score):\n",
        "  subject_score[subject] = score\n",
        "  return subject_score\n",
        "\n",
        "dict = {}\n",
        "add_score(dict, 'python', 50) # => {'python' : 50}\n",
        "add_score(dict, 'calculus', 60) # => {'python' : 50, 'calculus' : 60}\n",
        "\n",
        "def calc_average_score(subject_score):\n",
        "  sum = 0\n",
        "  for k,v in subject_score.items():\n",
        "    sum += v\n",
        "    result = sum/len(subject_score)\n",
        "  return result\n",
        "\n",
        "\n",
        "print(dict)\n",
        "print(f'{calc_average_score(dict):.2f}')\n",
        "\n",
        "# calc_average_score({ 'python' : 50, 'calculus' : 60 }) => '55.00'\n"
      ],
      "metadata": {
        "id": "LZGVVZVj3hLN",
        "colab": {
          "base_uri": "https://localhost:8080/"
        },
        "outputId": "c230cb73-af92-4e4a-9535-65b0b2da9821"
      },
      "execution_count": 25,
      "outputs": [
        {
          "output_type": "stream",
          "name": "stdout",
          "text": [
            "{'python': 50, 'calculus': 60}\n",
            "55.00\n"
          ]
        }
      ]
    },
    {
      "cell_type": "markdown",
      "source": [
        "2.\tให้นำโปรแกรมตามข้อ 1 มาขยายความสามารถให้รองรับนักศึกษาหลายคน โดยให้ refactor ฟังก์ชัน add_score ให้รับพารามิเตอร์เป็น add_score(subject_score, student, subject, score) โดย student เป็นข้อมูลของนักศึกษาเป็น string (ในที่นี้เป็น id) และ return เป็น dictionary\n",
        "\n",
        "- Input : subject_score = { }, student = '65010001', subject = 'python', score = 50\n",
        "- return : { '65010001' : { 'python' : 50 } }\n",
        "- input : subject_score = { '65010001' : { 'python' : 50 } },\n",
        "  student = '65010001', subject = ‘calculus’, score = 60\n",
        "- return : {'65010001': {'python’: 50,  'calculus', 60} }\n",
        "\n",
        "โดยหากชื่อมีข้อมูล key ใดที่มีใน dictionary อยู่แล้ว ให้ถือเป็นการ update ข้อมูลนั้น\n",
        "\n",
        "ให้ refactor ฟังก์ชัน calc_average_score โดยให้ส่งคืนเป็น dictionary ของนักศึกษาและคะแนนเฉลี่ยของนักศึกษาคนนั้น เช่น {'65010001': '55.00' }\n"
      ],
      "metadata": {
        "id": "5JcSUIBA4IDY"
      }
    },
    {
      "cell_type": "code",
      "execution_count": 105,
      "metadata": {
        "id": "QmJLbNje10SA",
        "colab": {
          "base_uri": "https://localhost:8080/"
        },
        "outputId": "8a9e44f7-c763-44d1-8297-5ef373fb5c44"
      },
      "outputs": [
        {
          "output_type": "stream",
          "name": "stdout",
          "text": [
            "{'65010001': {'python': 50, 'calculus': 60, 'dc': 65}, '65010002': {'dc': 70}, '65010003': {'calculus': 50}, '65010004': {'calculus': 50, 'python': 65}}\n",
            "{'65010001': '58.33', '65010002': '70.00', '65010003': '50.00', '65010004': '57.50'}\n"
          ]
        }
      ],
      "source": [
        "def add_score(subject_score, student, subject, score):\n",
        "  if student not in subject_score :\n",
        "        subject_score[student] = {}\n",
        "  subject_score[student][str(subject).lower()] = score\n",
        "  return subject_score\n",
        "\n",
        "def calc_average_score(subject_score):\n",
        "  sum = 0\n",
        "  result = 0\n",
        "  for k,v in subject_score.items():\n",
        "    # print(k)\n",
        "    for sub,score in v.items():\n",
        "      # print(sub,score)\n",
        "      sum += score\n",
        "      result = sum/len(v)\n",
        "    sumdict[k] = '{:.2f}'.format(result)\n",
        "    sum = 0\n",
        "  return sumdict#(result/len(sum))\n",
        "\n",
        "dict = {}\n",
        "sumdict = {}\n",
        "add_score(dict, '65010001', 'python', 50) # => {'65010001' : { 'python' : 50 } }\n",
        "add_score(dict, '65010001', 'calculus', 60)\n",
        "add_score(dict, '65010001', 'DC', 65) # => {'65010001' : { 'python' : 50, 'calculus' : 60 }\n",
        "add_score(dict, '65010002', 'DC', 70)\n",
        "add_score(dict, '65010003', 'calculus', 50)\n",
        "add_score(dict, '65010004', 'calculus', 50)\n",
        "add_score(dict, '65010004', 'python', 60)\n",
        "add_score(dict, '65010004', 'pythoN', 65)\n",
        "print(dict)\n",
        "print(calc_average_score(dict))"
      ]
    },
    {
      "cell_type": "markdown",
      "source": [
        "3.\tให้เขียนฟังก์ชัน is_plusone_dictionary(d) โดยรับพารามิเตอร์ 1 ตัว เป็นข้อมูลชนิด dictionary และให้ทดสอบว่า dictionary ที่รับเข้ามาเป็น plusone dictionary หรือไม่ ผลลัพธ์ให้ return เป็น True หรือ False โดย plusone dictionary คือ dictionary ที่ key และ value จะบวก 1 ต่อกันไปเรื่อยๆ  \n",
        "\n",
        "- Input :   {1:2, 3:4, 5:6, 7:8}\n",
        "- return : True\n",
        "\n",
        "อธิบาย : เพราะ key : value ต่างกันเป็น +1 ต่อกันไป\n",
        "- Input :   {1:2, 3:10, 5:6, 7:8}\n",
        "- return : False\n",
        "\n",
        "อธิบาย : เพราะ key, value ไม่เป็นไปตามลำดับ\n"
      ],
      "metadata": {
        "id": "Fv6l6uwo6Pki"
      }
    },
    {
      "cell_type": "code",
      "source": [
        "def is_plusone_dictionary(d):\n",
        "  pass\n",
        "\n",
        "is_plusone_dictionary({1:2, 3:4, 5:6, 7:8}) # => True\n",
        "is_plusone_dictionary({1:2, 3:10, 5:6, 7:8}) # => False\n",
        "\n"
      ],
      "metadata": {
        "id": "-yCKWw876aQs"
      },
      "execution_count": null,
      "outputs": []
    },
    {
      "cell_type": "markdown",
      "source": [
        "4.\tเขียนฟังก์ชัน char_count(str) โดยรับพารามิเตอร์ 1 ตัว เป็นข้อมูลชนิด string และให้ส่งคืนเป็น dictionary ที่มี key เป็นตัวอักษรแต่ละตัวของ string นั้น และ value คือ จำนวนครั้งที่ตัวอักษรนั้นปรากฏใน string เช่น\n",
        "\n",
        "- Input : 'language'\n",
        "- return : {'l': 1, 'a': 2, 'n': 1, 'g': 2, 'e': 1}\n"
      ],
      "metadata": {
        "id": "zxO80QGx6mnk"
      }
    },
    {
      "cell_type": "code",
      "source": [
        "def char_count(str):\n",
        "  pass\n",
        "\n",
        "char_count('language') # => {'l': 1, 'a': 2, 'n': 1, 'g': 2, 'e': 1}\n",
        "\n",
        "char_count('awesome') # => {'a': 1, 'e': 2, 'm': 1, 'o': 1, 'w': 1}\n",
        "\n",
        "char_count('me') # => {'m': 1, 'e': 1}"
      ],
      "metadata": {
        "id": "PEu6wF5Y6rAE"
      },
      "execution_count": null,
      "outputs": []
    },
    {
      "cell_type": "markdown",
      "source": [
        "5.\tข้อมูลต่อไปนี้แทน music album แต่ละ album เก็บใน dictionary ซึ่งมีตัวเลข id เป็น key โดยแต่ละ album ไม่จำเป็นต้องมีข้อมูลครบ\n",
        "\n",
        "\n",
        "\n",
        "```\n",
        "record_collection = {\n",
        "  2548: {\n",
        "    albumTitle: 'Slippery When Wet',\n",
        "    artist: 'Bon Jovi',\n",
        "    tracks: ['Let It Rock', 'You Give Love a Bad Name']\n",
        "  },\n",
        "  2468: {\n",
        "    albumTitle: '1999',\n",
        "    artist: 'Prince',\n",
        "    tracks: ['1999', 'Little Red Corvette']\n",
        "  },\n",
        "  1245: {\n",
        "    artist: 'Robert Palmer',\n",
        "    tracks: []\n",
        "  },\n",
        "  5439: {\n",
        "    albumTitle: 'ABBA Gold'\n",
        "  }\n",
        "```\n",
        "\n",
        "\n",
        "\n",
        "ให้เขียนฟังก์ชัน update_records โดยรับพารามิเตอร์ 4 ตัว คือ 1) dictionary record 2) id 3) property (เช่น artist หรือ tracks 4) value โดยหน้าที่ของฟังก์ชัน คือ ให้เพิ่ม/เปลี่ยน ค่า property และ value ของ album ของ id ที่ส่งค่าไปในฟังก์ชัน โดยมีรายละเอียดดังนี้\n",
        "- ฟังก์ชันจะต้องส่งคืนข้อมูล record ทั้งหมดกลับมา\n",
        "- ถ้า property ไม่ใช่ tracks และ value ไม่ใช่ empty string ให้ update หรือ set ข้อมูล property กับ value ใน album นั้น\n",
        "- ถ้า property เป็น tracks แต่ album นั้นไม่มี tracks property ให้สร้าง List ใหม่และเพิ่มข้อมูลเข้าไปใน List นั้น\n",
        "- ถ้า property เป็น tracks และ value ไม่ใช่  empty string ให้เพิ่ม value ต่อท้ายใน List ของ tracks  \n",
        "- ถ้า value เป็น empty string ให้ลบข้อมูล property นั้นออกจาก album\n",
        "\n",
        "\n"
      ],
      "metadata": {
        "id": "2YPYGtFG6v2j"
      }
    },
    {
      "cell_type": "code",
      "source": [
        "record_collection = {\n",
        "  2548: {\n",
        "    'albumTitle': 'Slippery When Wet',\n",
        "    'artist': 'Bon Jovi',\n",
        "    'tracks': ['Let It Rock', 'You Give Love a Bad Name']\n",
        "  },\n",
        "  2468: {\n",
        "    'albumTitle': '1999',\n",
        "    'artist': 'Prince',\n",
        "    'tracks': ['1999', 'Little Red Corvette']\n",
        "  },\n",
        "  1245: {\n",
        "    'artist': 'Robert Palmer',\n",
        "    'tracks': []\n",
        "  },\n",
        "  5439: {\n",
        "    'albumTitle': 'ABBA Gold'\n",
        "  }\n",
        "}\n",
        "\n",
        "def update_records(record, id, property, value):\n",
        "  pass\n",
        "\n",
        "update_records(record_collection, 2548, 'artist', '') # ลบ artist ของ 2548\n",
        "update_records(record_collection, 2548, 'artist', 'Sting') # แก้ไข artist ของ 2548\n",
        "update_records(record_collection, 2548, 'tracks', 'wanted dead or alive') # เพิ่ม tracks ของ 1245\n",
        "update_records(record_collection, 2548, 'tracks', '') # ลบ tracks ของ 1245\n",
        "ีีupdate_records(record_collection, 5439, 'tracks', 'I Put a Spell on You') # เพิ่ม tracks ของ 5439\n",
        "ีupdate_records(record_collection, 5439, 'artist', 'ABBA') # เพิ่ม artist ของ 5439\n",
        "ีupdate_records(record_collection, 5439, 'artist', 'Chicago') # แก้ไข artist ของ 5439\n",
        "update_records(record_collection, 1245, 'tracks', 'Addicted to Love') # เพิ่ม tracks ของ 1245\n",
        "update_records(record_collection, 5439, 'albumTitle', '') # ลบ albumTitle ของ 5439\n",
        "\n",
        "print(record_collection)\n",
        "\n"
      ],
      "metadata": {
        "id": "Q9T-P4hs8cqJ"
      },
      "execution_count": null,
      "outputs": []
    },
    {
      "cell_type": "markdown",
      "source": [
        "ให้เขียนโปรแกรม หาขนาดไฟล์แต่ละไฟล์และขนาดไฟล์รวมใน directory\n",
        "https://github.com/NextGen-AI-Camp/curriculum/blob/main/Dataset/thai-handwritten-dataset/thai-handwritten-dataset.zip\n",
        "รูปแบบ\n",
        "\tชื่อไฟล์ , ขนาดไฟล์\n"
      ],
      "metadata": {
        "id": "UxUr35EWEDd8"
      }
    },
    {
      "cell_type": "code",
      "source": [],
      "metadata": {
        "id": "ZP-9-SVeEJn6"
      },
      "execution_count": null,
      "outputs": []
    }
  ]
}